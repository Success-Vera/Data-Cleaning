{
 "cells": [
  {
   "cell_type": "code",
   "execution_count": 1,
   "metadata": {},
   "outputs": [],
   "source": [
    "# !pip install -U nltk #natural language toolkit"
   ]
  },
  {
   "cell_type": "markdown",
   "metadata": {},
   "source": [
    "### Import libraries/modules"
   ]
  },
  {
   "cell_type": "code",
   "execution_count": 1,
   "metadata": {
    "execution": {
     "iopub.execute_input": "2021-08-08T17:25:21.748844Z",
     "iopub.status.busy": "2021-08-08T17:25:21.748450Z",
     "iopub.status.idle": "2021-08-08T17:25:21.757141Z",
     "shell.execute_reply": "2021-08-08T17:25:21.756221Z",
     "shell.execute_reply.started": "2021-08-08T17:25:21.748807Z"
    }
   },
   "outputs": [
    {
     "name": "stderr",
     "output_type": "stream",
     "text": [
      "/home/ifeoma/snap/jupyter/common/lib/python3.7/site-packages/joblib/_multiprocessing_helpers.py:45: UserWarning: [Errno 13] Permission denied.  joblib will operate in serial mode\n",
      "  warnings.warn('%s.  joblib will operate in serial mode' % (e,))\n"
     ]
    }
   ],
   "source": [
    "import pandas as pd\n",
    "import numpy as np\n",
    "import seaborn as sns\n",
    "import matplotlib.pyplot as plt\n",
    "\n",
    "\n",
    "import re\n",
    "import string\n",
    "from string import punctuation \n",
    "\n",
    "from nltk.corpus import stopwords\n",
    "stop = stopwords.words('english')\n",
    "from nltk.tokenize import word_tokenize\n",
    "from nltk.stem import WordNetLemmatizer"
   ]
  },
  {
   "cell_type": "markdown",
   "metadata": {},
   "source": [
    "### Load the dataset"
   ]
  },
  {
   "cell_type": "code",
   "execution_count": 2,
   "metadata": {
    "execution": {
     "iopub.execute_input": "2021-08-08T17:27:09.775764Z",
     "iopub.status.busy": "2021-08-08T17:27:09.775355Z",
     "iopub.status.idle": "2021-08-08T17:27:09.965447Z",
     "shell.execute_reply": "2021-08-08T17:27:09.964198Z",
     "shell.execute_reply.started": "2021-08-08T17:27:09.775723Z"
    }
   },
   "outputs": [
    {
     "data": {
      "text/html": [
       "<div>\n",
       "<style scoped>\n",
       "    .dataframe tbody tr th:only-of-type {\n",
       "        vertical-align: middle;\n",
       "    }\n",
       "\n",
       "    .dataframe tbody tr th {\n",
       "        vertical-align: top;\n",
       "    }\n",
       "\n",
       "    .dataframe thead th {\n",
       "        text-align: right;\n",
       "    }\n",
       "</style>\n",
       "<table border=\"1\" class=\"dataframe\">\n",
       "  <thead>\n",
       "    <tr style=\"text-align: right;\">\n",
       "      <th></th>\n",
       "      <th>Tweet_ID</th>\n",
       "      <th>tweet</th>\n",
       "      <th>type</th>\n",
       "    </tr>\n",
       "  </thead>\n",
       "  <tbody>\n",
       "    <tr>\n",
       "      <th>0</th>\n",
       "      <td>ID_0022DWKP</td>\n",
       "      <td>Had a dream i got raped last night. By a guy i...</td>\n",
       "      <td>sexual_violence</td>\n",
       "    </tr>\n",
       "    <tr>\n",
       "      <th>1</th>\n",
       "      <td>ID_00395QYM</td>\n",
       "      <td>he thought the word raped means sex and told m...</td>\n",
       "      <td>sexual_violence</td>\n",
       "    </tr>\n",
       "    <tr>\n",
       "      <th>2</th>\n",
       "      <td>ID_003EOSSF</td>\n",
       "      <td>She NOT TALKING TO ME I WAS RAPED BY 2 MEN 1 M...</td>\n",
       "      <td>sexual_violence</td>\n",
       "    </tr>\n",
       "    <tr>\n",
       "      <th>3</th>\n",
       "      <td>ID_004BBHOD</td>\n",
       "      <td>I was sexually abused for 3 years at age 4 to ...</td>\n",
       "      <td>sexual_violence</td>\n",
       "    </tr>\n",
       "    <tr>\n",
       "      <th>4</th>\n",
       "      <td>ID_004F7516</td>\n",
       "      <td>Chessy Prout can do better by telling the trut...</td>\n",
       "      <td>sexual_violence</td>\n",
       "    </tr>\n",
       "  </tbody>\n",
       "</table>\n",
       "</div>"
      ],
      "text/plain": [
       "      Tweet_ID                                              tweet  \\\n",
       "0  ID_0022DWKP  Had a dream i got raped last night. By a guy i...   \n",
       "1  ID_00395QYM  he thought the word raped means sex and told m...   \n",
       "2  ID_003EOSSF  She NOT TALKING TO ME I WAS RAPED BY 2 MEN 1 M...   \n",
       "3  ID_004BBHOD  I was sexually abused for 3 years at age 4 to ...   \n",
       "4  ID_004F7516  Chessy Prout can do better by telling the trut...   \n",
       "\n",
       "              type  \n",
       "0  sexual_violence  \n",
       "1  sexual_violence  \n",
       "2  sexual_violence  \n",
       "3  sexual_violence  \n",
       "4  sexual_violence  "
      ]
     },
     "execution_count": 2,
     "metadata": {},
     "output_type": "execute_result"
    }
   ],
   "source": [
    "train = pd.read_csv(\"Train.csv\")\n",
    "train.head()"
   ]
  },
  {
   "cell_type": "code",
   "execution_count": 5,
   "metadata": {
    "execution": {
     "iopub.execute_input": "2021-08-08T17:27:10.682614Z",
     "iopub.status.busy": "2021-08-08T17:27:10.682108Z",
     "iopub.status.idle": "2021-08-08T17:27:10.690286Z",
     "shell.execute_reply": "2021-08-08T17:27:10.689175Z",
     "shell.execute_reply.started": "2021-08-08T17:27:10.682582Z"
    }
   },
   "outputs": [
    {
     "data": {
      "text/html": [
       "<div>\n",
       "<style scoped>\n",
       "    .dataframe tbody tr th:only-of-type {\n",
       "        vertical-align: middle;\n",
       "    }\n",
       "\n",
       "    .dataframe tbody tr th {\n",
       "        vertical-align: top;\n",
       "    }\n",
       "\n",
       "    .dataframe thead th {\n",
       "        text-align: right;\n",
       "    }\n",
       "</style>\n",
       "<table border=\"1\" class=\"dataframe\">\n",
       "  <thead>\n",
       "    <tr style=\"text-align: right;\">\n",
       "      <th></th>\n",
       "      <th>type</th>\n",
       "    </tr>\n",
       "  </thead>\n",
       "  <tbody>\n",
       "    <tr>\n",
       "      <th>sexual_violence</th>\n",
       "      <td>32648</td>\n",
       "    </tr>\n",
       "    <tr>\n",
       "      <th>Physical_violence</th>\n",
       "      <td>5946</td>\n",
       "    </tr>\n",
       "    <tr>\n",
       "      <th>emotional_violence</th>\n",
       "      <td>651</td>\n",
       "    </tr>\n",
       "    <tr>\n",
       "      <th>economic_violence</th>\n",
       "      <td>217</td>\n",
       "    </tr>\n",
       "    <tr>\n",
       "      <th>Harmful_Traditional_practice</th>\n",
       "      <td>188</td>\n",
       "    </tr>\n",
       "  </tbody>\n",
       "</table>\n",
       "</div>"
      ],
      "text/plain": [
       "                               type\n",
       "sexual_violence               32648\n",
       "Physical_violence              5946\n",
       "emotional_violence              651\n",
       "economic_violence               217\n",
       "Harmful_Traditional_practice    188"
      ]
     },
     "execution_count": 5,
     "metadata": {},
     "output_type": "execute_result"
    }
   ],
   "source": [
    "y=train.type.value_counts().to_frame()\n",
    "y.head()"
   ]
  },
  {
   "cell_type": "code",
   "execution_count": 6,
   "metadata": {
    "execution": {
     "iopub.execute_input": "2021-08-08T17:27:10.934201Z",
     "iopub.status.busy": "2021-08-08T17:27:10.933814Z",
     "iopub.status.idle": "2021-08-08T17:27:11.006578Z",
     "shell.execute_reply": "2021-08-08T17:27:11.005432Z",
     "shell.execute_reply.started": "2021-08-08T17:27:10.934157Z"
    }
   },
   "outputs": [
    {
     "data": {
      "text/html": [
       "<div>\n",
       "<style scoped>\n",
       "    .dataframe tbody tr th:only-of-type {\n",
       "        vertical-align: middle;\n",
       "    }\n",
       "\n",
       "    .dataframe tbody tr th {\n",
       "        vertical-align: top;\n",
       "    }\n",
       "\n",
       "    .dataframe thead th {\n",
       "        text-align: right;\n",
       "    }\n",
       "</style>\n",
       "<table border=\"1\" class=\"dataframe\">\n",
       "  <thead>\n",
       "    <tr style=\"text-align: right;\">\n",
       "      <th></th>\n",
       "      <th>Tweet_ID</th>\n",
       "      <th>tweet</th>\n",
       "    </tr>\n",
       "  </thead>\n",
       "  <tbody>\n",
       "    <tr>\n",
       "      <th>0</th>\n",
       "      <td>ID_0095QL4S</td>\n",
       "      <td>because he was my boyfriend, and if I said no,...</td>\n",
       "    </tr>\n",
       "    <tr>\n",
       "      <th>1</th>\n",
       "      <td>ID_00DREW5O</td>\n",
       "      <td>lol no, I'm telling you it's not legal. It's l...</td>\n",
       "    </tr>\n",
       "    <tr>\n",
       "      <th>2</th>\n",
       "      <td>ID_00E9F5X9</td>\n",
       "      <td>Somalia's semi-autonomous Puntland region has ...</td>\n",
       "    </tr>\n",
       "    <tr>\n",
       "      <th>3</th>\n",
       "      <td>ID_00G9OSKZ</td>\n",
       "      <td>University of Cape Coast students being robbed...</td>\n",
       "    </tr>\n",
       "    <tr>\n",
       "      <th>4</th>\n",
       "      <td>ID_00HU96U6</td>\n",
       "      <td>\"Somebody came up behind him and stabbed him i...</td>\n",
       "    </tr>\n",
       "  </tbody>\n",
       "</table>\n",
       "</div>"
      ],
      "text/plain": [
       "      Tweet_ID                                              tweet\n",
       "0  ID_0095QL4S  because he was my boyfriend, and if I said no,...\n",
       "1  ID_00DREW5O  lol no, I'm telling you it's not legal. It's l...\n",
       "2  ID_00E9F5X9  Somalia's semi-autonomous Puntland region has ...\n",
       "3  ID_00G9OSKZ  University of Cape Coast students being robbed...\n",
       "4  ID_00HU96U6  \"Somebody came up behind him and stabbed him i..."
      ]
     },
     "execution_count": 6,
     "metadata": {},
     "output_type": "execute_result"
    }
   ],
   "source": [
    "test = pd.read_csv(\"Test.csv\")\n",
    "test.head()"
   ]
  },
  {
   "cell_type": "code",
   "execution_count": 7,
   "metadata": {
    "execution": {
     "iopub.execute_input": "2021-08-08T17:27:11.569203Z",
     "iopub.status.busy": "2021-08-08T17:27:11.568842Z",
     "iopub.status.idle": "2021-08-08T17:27:11.574983Z",
     "shell.execute_reply": "2021-08-08T17:27:11.573855Z",
     "shell.execute_reply.started": "2021-08-08T17:27:11.569171Z"
    }
   },
   "outputs": [
    {
     "name": "stdout",
     "output_type": "stream",
     "text": [
      "(39650, 3) (15581, 2)\n"
     ]
    }
   ],
   "source": [
    "print(train.shape,test.shape)"
   ]
  },
  {
   "cell_type": "markdown",
   "metadata": {},
   "source": [
    "### EDA"
   ]
  },
  {
   "cell_type": "code",
   "execution_count": 8,
   "metadata": {
    "execution": {
     "iopub.execute_input": "2021-08-08T17:27:20.177707Z",
     "iopub.status.busy": "2021-08-08T17:27:20.177310Z",
     "iopub.status.idle": "2021-08-08T17:27:20.455319Z",
     "shell.execute_reply": "2021-08-08T17:27:20.454195Z",
     "shell.execute_reply.started": "2021-08-08T17:27:20.177670Z"
    }
   },
   "outputs": [
    {
     "data": {
      "image/png": "[encoded data removed]",
      "text/plain": [
       "<Figure size 842.4x595.44 with 1 Axes>"
      ]
     },
     "metadata": {},
     "output_type": "display_data"
    }
   ],
   "source": [
    "sns.set(rc={'figure.figsize':(11.7,8.27)})\n",
    "\n",
    "sns.countplot(train[\"type\"])\n",
    "plt.show()"
   ]
  },
  {
   "cell_type": "code",
   "execution_count": 9,
   "metadata": {
    "execution": {
     "iopub.execute_input": "2021-08-08T17:27:21.225130Z",
     "iopub.status.busy": "2021-08-08T17:27:21.224764Z",
     "iopub.status.idle": "2021-08-08T17:27:21.241417Z",
     "shell.execute_reply": "2021-08-08T17:27:21.240313Z",
     "shell.execute_reply.started": "2021-08-08T17:27:21.225091Z"
    }
   },
   "outputs": [
    {
     "data": {
      "text/html": [
       "<div>\n",
       "<style scoped>\n",
       "    .dataframe tbody tr th:only-of-type {\n",
       "        vertical-align: middle;\n",
       "    }\n",
       "\n",
       "    .dataframe tbody tr th {\n",
       "        vertical-align: top;\n",
       "    }\n",
       "\n",
       "    .dataframe thead th {\n",
       "        text-align: right;\n",
       "    }\n",
       "</style>\n",
       "<table border=\"1\" class=\"dataframe\">\n",
       "  <thead>\n",
       "    <tr style=\"text-align: right;\">\n",
       "      <th></th>\n",
       "      <th>Tweet_ID</th>\n",
       "      <th>tweet</th>\n",
       "    </tr>\n",
       "  </thead>\n",
       "  <tbody>\n",
       "    <tr>\n",
       "      <th>0</th>\n",
       "      <td>ID_0022DWKP</td>\n",
       "      <td>Had a dream i got raped last night. By a guy i...</td>\n",
       "    </tr>\n",
       "    <tr>\n",
       "      <th>1</th>\n",
       "      <td>ID_00395QYM</td>\n",
       "      <td>he thought the word raped means sex and told m...</td>\n",
       "    </tr>\n",
       "    <tr>\n",
       "      <th>2</th>\n",
       "      <td>ID_003EOSSF</td>\n",
       "      <td>She NOT TALKING TO ME I WAS RAPED BY 2 MEN 1 M...</td>\n",
       "    </tr>\n",
       "    <tr>\n",
       "      <th>3</th>\n",
       "      <td>ID_004BBHOD</td>\n",
       "      <td>I was sexually abused for 3 years at age 4 to ...</td>\n",
       "    </tr>\n",
       "    <tr>\n",
       "      <th>4</th>\n",
       "      <td>ID_004F7516</td>\n",
       "      <td>Chessy Prout can do better by telling the trut...</td>\n",
       "    </tr>\n",
       "    <tr>\n",
       "      <th>...</th>\n",
       "      <td>...</td>\n",
       "      <td>...</td>\n",
       "    </tr>\n",
       "    <tr>\n",
       "      <th>39645</th>\n",
       "      <td>ID_ZZTLP2L5</td>\n",
       "      <td>ENTRY 1299: 21F. 23M, BF’s cousin. Got drunk o...</td>\n",
       "    </tr>\n",
       "    <tr>\n",
       "      <th>39646</th>\n",
       "      <td>ID_ZZXB10M6</td>\n",
       "      <td>So you’re telling me Emmanuel Macron was groom...</td>\n",
       "    </tr>\n",
       "    <tr>\n",
       "      <th>39647</th>\n",
       "      <td>ID_ZZY8B7FJ</td>\n",
       "      <td>My wife regularly beats me, I get dirty slaps ...</td>\n",
       "    </tr>\n",
       "    <tr>\n",
       "      <th>39648</th>\n",
       "      <td>ID_ZZYAFD8L</td>\n",
       "      <td>Me: Hey babe! Police officer boyfriend: is tha...</td>\n",
       "    </tr>\n",
       "    <tr>\n",
       "      <th>39649</th>\n",
       "      <td>ID_ZZZ8QEKT</td>\n",
       "      <td>“I will take accountability if you think it’s ...</td>\n",
       "    </tr>\n",
       "  </tbody>\n",
       "</table>\n",
       "<p>39650 rows × 2 columns</p>\n",
       "</div>"
      ],
      "text/plain": [
       "          Tweet_ID                                              tweet\n",
       "0      ID_0022DWKP  Had a dream i got raped last night. By a guy i...\n",
       "1      ID_00395QYM  he thought the word raped means sex and told m...\n",
       "2      ID_003EOSSF  She NOT TALKING TO ME I WAS RAPED BY 2 MEN 1 M...\n",
       "3      ID_004BBHOD  I was sexually abused for 3 years at age 4 to ...\n",
       "4      ID_004F7516  Chessy Prout can do better by telling the trut...\n",
       "...            ...                                                ...\n",
       "39645  ID_ZZTLP2L5  ENTRY 1299: 21F. 23M, BF’s cousin. Got drunk o...\n",
       "39646  ID_ZZXB10M6  So you’re telling me Emmanuel Macron was groom...\n",
       "39647  ID_ZZY8B7FJ  My wife regularly beats me, I get dirty slaps ...\n",
       "39648  ID_ZZYAFD8L  Me: Hey babe! Police officer boyfriend: is tha...\n",
       "39649  ID_ZZZ8QEKT  “I will take accountability if you think it’s ...\n",
       "\n",
       "[39650 rows x 2 columns]"
      ]
     },
     "execution_count": 9,
     "metadata": {},
     "output_type": "execute_result"
    }
   ],
   "source": [
    "train.drop(\"type\",axis=1)"
   ]
  },
  {
   "cell_type": "markdown",
   "metadata": {},
   "source": [
    "This dataset is highly imbalanced; from the graphs above, sexual violence is about 80%+. "
   ]
  },
  {
   "cell_type": "code",
   "execution_count": 10,
   "metadata": {
    "execution": {
     "iopub.execute_input": "2021-08-08T17:27:29.048191Z",
     "iopub.status.busy": "2021-08-08T17:27:29.047832Z",
     "iopub.status.idle": "2021-08-08T17:27:29.074278Z",
     "shell.execute_reply": "2021-08-08T17:27:29.072928Z",
     "shell.execute_reply.started": "2021-08-08T17:27:29.048161Z"
    }
   },
   "outputs": [
    {
     "data": {
      "text/plain": [
       "Tweet_ID    False\n",
       "tweet       False\n",
       "type        False\n",
       "dtype: bool"
      ]
     },
     "execution_count": 10,
     "metadata": {},
     "output_type": "execute_result"
    }
   ],
   "source": [
    "train.isna().any() #check for null values in train set"
   ]
  },
  {
   "cell_type": "code",
   "execution_count": 11,
   "metadata": {
    "execution": {
     "iopub.execute_input": "2021-08-08T17:27:32.738408Z",
     "iopub.status.busy": "2021-08-08T17:27:32.738042Z",
     "iopub.status.idle": "2021-08-08T17:27:32.751354Z",
     "shell.execute_reply": "2021-08-08T17:27:32.750161Z",
     "shell.execute_reply.started": "2021-08-08T17:27:32.738378Z"
    }
   },
   "outputs": [
    {
     "data": {
      "text/plain": [
       "Tweet_ID    False\n",
       "tweet       False\n",
       "dtype: bool"
      ]
     },
     "execution_count": 11,
     "metadata": {},
     "output_type": "execute_result"
    }
   ],
   "source": [
    "test.isna().any() #check for null values in test set"
   ]
  },
  {
   "cell_type": "code",
   "execution_count": 14,
   "metadata": {
    "execution": {
     "iopub.execute_input": "2021-08-08T17:27:32.770642Z",
     "iopub.status.busy": "2021-08-08T17:27:32.770145Z",
     "iopub.status.idle": "2021-08-08T17:27:32.784958Z",
     "shell.execute_reply": "2021-08-08T17:27:32.783839Z",
     "shell.execute_reply.started": "2021-08-08T17:27:32.770568Z"
    }
   },
   "outputs": [
    {
     "name": "stdout",
     "output_type": "stream",
     "text": [
      "(55231, 4)\n"
     ]
    },
    {
     "data": {
      "text/html": [
       "<div>\n",
       "<style scoped>\n",
       "    .dataframe tbody tr th:only-of-type {\n",
       "        vertical-align: middle;\n",
       "    }\n",
       "\n",
       "    .dataframe tbody tr th {\n",
       "        vertical-align: top;\n",
       "    }\n",
       "\n",
       "    .dataframe thead th {\n",
       "        text-align: right;\n",
       "    }\n",
       "</style>\n",
       "<table border=\"1\" class=\"dataframe\">\n",
       "  <thead>\n",
       "    <tr style=\"text-align: right;\">\n",
       "      <th></th>\n",
       "      <th>Tweet_ID</th>\n",
       "      <th>tweet</th>\n",
       "      <th>type</th>\n",
       "      <th>trash</th>\n",
       "    </tr>\n",
       "  </thead>\n",
       "  <tbody>\n",
       "    <tr>\n",
       "      <th>0</th>\n",
       "      <td>ID_0022DWKP</td>\n",
       "      <td>Had a dream i got raped last night. By a guy i...</td>\n",
       "      <td>sexual_violence</td>\n",
       "      <td>1</td>\n",
       "    </tr>\n",
       "    <tr>\n",
       "      <th>1</th>\n",
       "      <td>ID_00395QYM</td>\n",
       "      <td>he thought the word raped means sex and told m...</td>\n",
       "      <td>sexual_violence</td>\n",
       "      <td>1</td>\n",
       "    </tr>\n",
       "    <tr>\n",
       "      <th>2</th>\n",
       "      <td>ID_003EOSSF</td>\n",
       "      <td>She NOT TALKING TO ME I WAS RAPED BY 2 MEN 1 M...</td>\n",
       "      <td>sexual_violence</td>\n",
       "      <td>1</td>\n",
       "    </tr>\n",
       "    <tr>\n",
       "      <th>3</th>\n",
       "      <td>ID_004BBHOD</td>\n",
       "      <td>I was sexually abused for 3 years at age 4 to ...</td>\n",
       "      <td>sexual_violence</td>\n",
       "      <td>1</td>\n",
       "    </tr>\n",
       "    <tr>\n",
       "      <th>4</th>\n",
       "      <td>ID_004F7516</td>\n",
       "      <td>Chessy Prout can do better by telling the trut...</td>\n",
       "      <td>sexual_violence</td>\n",
       "      <td>1</td>\n",
       "    </tr>\n",
       "  </tbody>\n",
       "</table>\n",
       "</div>"
      ],
      "text/plain": [
       "      Tweet_ID                                              tweet  \\\n",
       "0  ID_0022DWKP  Had a dream i got raped last night. By a guy i...   \n",
       "1  ID_00395QYM  he thought the word raped means sex and told m...   \n",
       "2  ID_003EOSSF  She NOT TALKING TO ME I WAS RAPED BY 2 MEN 1 M...   \n",
       "3  ID_004BBHOD  I was sexually abused for 3 years at age 4 to ...   \n",
       "4  ID_004F7516  Chessy Prout can do better by telling the trut...   \n",
       "\n",
       "              type  trash  \n",
       "0  sexual_violence      1  \n",
       "1  sexual_violence      1  \n",
       "2  sexual_violence      1  \n",
       "3  sexual_violence      1  \n",
       "4  sexual_violence      1  "
      ]
     },
     "execution_count": 14,
     "metadata": {},
     "output_type": "execute_result"
    }
   ],
   "source": [
    "#join train and test for easy preprocessing\n",
    "train[\"trash\"]=1\n",
    "test[\"trash\"]=0\n",
    "all_data=pd.concat((train,test))\n",
    "print(all_data.shape)\n",
    "all_data.head()"
   ]
  },
  {
   "cell_type": "markdown",
   "metadata": {},
   "source": [
    "## Clean Text"
   ]
  },
  {
   "cell_type": "code",
   "execution_count": 65,
   "metadata": {
    "execution": {
     "iopub.execute_input": "2021-08-08T17:27:33.960011Z",
     "iopub.status.busy": "2021-08-08T17:27:33.959597Z",
     "iopub.status.idle": "2021-08-08T17:27:33.974489Z",
     "shell.execute_reply": "2021-08-08T17:27:33.973099Z",
     "shell.execute_reply.started": "2021-08-08T17:27:33.959896Z"
    }
   },
   "outputs": [],
   "source": [
    "from nltk.corpus import stopwords\n",
    "from nltk.stem import PorterStemmer\n",
    "from nltk.tokenize import TweetTokenizer\n",
    "\n",
    "\n",
    "def clean_text(text):\n",
    "    \n",
    "    stemmer = PorterStemmer()\n",
    "    stopwords_english = stopwords.words('english')\n",
    "    text = text.lower()\n",
    "    text = re.sub(r'\\$\\w*', '', text)     \n",
    "    text = re.sub(r'^RT[\\s]+', '', text)    \n",
    "    text = re.sub(r'https?:\\/\\/.*[\\r\\n]*', '', text)     \n",
    "    text   = re.sub(r'http?:.*$', '', text)\n",
    "    text   = re.sub(r'https?:.*$', '', text)\n",
    "    text = re.sub(r'#', '', text)     \n",
    "    text = text.replace('\\n', ' ').replace('\\r', '')\n",
    "    text = ' '.join(text.split())\n",
    "    text = re.sub(r\"[A-Za-z\\.]*[0-9]+[A-Za-z%°\\.]*\", \"\", text)\n",
    "    text = re.sub(r\"(\\s\\-\\s|-$)\", \"\", text)\n",
    "    text = re.sub(r\"[,\\!\\?\\%\\(\\)\\/\\\"]\", \"\", text)\n",
    "    text = re.sub(r\"\\&\\S*\\s\", \"\", text)\n",
    "    text = re.sub(r\"\\&\", \"\", text)\n",
    "    text = re.sub(r\"\\+\", \"\", text)\n",
    "    text = re.sub(r\"\\$\", \"\", text)\n",
    "    text = re.sub(r\"\\£\", \"\", text)\n",
    "    text = re.sub(r\"\\%\", \"\", text)\n",
    "    text = re.sub(r\"\\:\", \"\", text)\n",
    "    text = re.sub(r\"\\@\", \"\", text)\n",
    "    text = re.sub(r\"\\-\", \"\", text)\n",
    "    text = re.sub(r'\\\\', '', text)\n",
    "    text = re.sub(r\"'\", '', text)\n",
    "    text = text.replace(\"'\", \" \").replace('\"',\"\")\n",
    "    text   = re.sub(r'pic?.*\\/\\w*', '', text)\n",
    "    text   = re.sub(r'[' + string.punctuation + ']+', ' ', text)  \n",
    "    \n",
    "    tokenizer = TweetTokenizer(preserve_case=False, strip_handles=True,\n",
    "                               reduce_len=True)\n",
    "    tweet_tokens = tokenizer.tokenize(text)\n",
    "\n",
    "    tweets_clean = []\n",
    "    for word in tweet_tokens:\n",
    "        if (word not in stopwords_english and  \n",
    "            word not in string.punctuation): \n",
    "            stem_word = stemmer.stem(word)  \n",
    "            tweets_clean.append(stem_word)\n",
    "\n",
    "    return ' '.join(tweets_clean)"
   ]
  },
  {
   "cell_type": "code",
   "execution_count": 74,
   "metadata": {
    "execution": {
     "iopub.execute_input": "2021-08-08T17:28:49.698516Z",
     "iopub.status.busy": "2021-08-08T17:28:49.698231Z",
     "iopub.status.idle": "2021-08-08T17:28:49.710519Z",
     "shell.execute_reply": "2021-08-08T17:28:49.709839Z",
     "shell.execute_reply.started": "2021-08-08T17:28:49.698486Z"
    }
   },
   "outputs": [
    {
     "data": {
      "text/html": [
       "<div>\n",
       "<style scoped>\n",
       "    .dataframe tbody tr th:only-of-type {\n",
       "        vertical-align: middle;\n",
       "    }\n",
       "\n",
       "    .dataframe tbody tr th {\n",
       "        vertical-align: top;\n",
       "    }\n",
       "\n",
       "    .dataframe thead th {\n",
       "        text-align: right;\n",
       "    }\n",
       "</style>\n",
       "<table border=\"1\" class=\"dataframe\">\n",
       "  <thead>\n",
       "    <tr style=\"text-align: right;\">\n",
       "      <th></th>\n",
       "      <th>Tweet_ID</th>\n",
       "      <th>tweet</th>\n",
       "      <th>type</th>\n",
       "      <th>trash</th>\n",
       "      <th>Tweets_clean</th>\n",
       "    </tr>\n",
       "  </thead>\n",
       "  <tbody>\n",
       "    <tr>\n",
       "      <th>1</th>\n",
       "      <td>ID_00395QYM</td>\n",
       "      <td>he thought the word raped means sex and told m...</td>\n",
       "      <td>sexual_violence</td>\n",
       "      <td>1</td>\n",
       "      <td>thought word rape mean sex told “ saw dog rape...</td>\n",
       "    </tr>\n",
       "    <tr>\n",
       "      <th>2</th>\n",
       "      <td>ID_003EOSSF</td>\n",
       "      <td>She NOT TALKING TO ME I WAS RAPED BY 2 MEN 1 M...</td>\n",
       "      <td>sexual_violence</td>\n",
       "      <td>1</td>\n",
       "      <td>talk rape men molest jail nother charg say word</td>\n",
       "    </tr>\n",
       "    <tr>\n",
       "      <th>3</th>\n",
       "      <td>ID_004BBHOD</td>\n",
       "      <td>I was sexually abused for 3 years at age 4 to ...</td>\n",
       "      <td>sexual_violence</td>\n",
       "      <td>1</td>\n",
       "      <td>sexual abus year age one believ rape bro ’ fri...</td>\n",
       "    </tr>\n",
       "    <tr>\n",
       "      <th>4</th>\n",
       "      <td>ID_004F7516</td>\n",
       "      <td>Chessy Prout can do better by telling the trut...</td>\n",
       "      <td>sexual_violence</td>\n",
       "      <td>1</td>\n",
       "      <td>chessi prout better tell truth sell owen labri...</td>\n",
       "    </tr>\n",
       "    <tr>\n",
       "      <th>5</th>\n",
       "      <td>ID_0052TYKI</td>\n",
       "      <td>Yes men rape women. But women also rape men, y...</td>\n",
       "      <td>sexual_violence</td>\n",
       "      <td>1</td>\n",
       "      <td>ye men rape women women also rape men yet ’ ne...</td>\n",
       "    </tr>\n",
       "    <tr>\n",
       "      <th>6</th>\n",
       "      <td>ID_0058QG76</td>\n",
       "      <td>My Husband Beats Me Frequently, Wife Tells Cou...</td>\n",
       "      <td>Physical_violence</td>\n",
       "      <td>1</td>\n",
       "      <td>husband beat frequent wife tell court</td>\n",
       "    </tr>\n",
       "    <tr>\n",
       "      <th>7</th>\n",
       "      <td>ID_005VM1DJ</td>\n",
       "      <td>Pretty sure he raped a 16yr old girl with 2 fr...</td>\n",
       "      <td>sexual_violence</td>\n",
       "      <td>1</td>\n",
       "      <td>pretti sure rape old girl friend buri aliv adm...</td>\n",
       "    </tr>\n",
       "    <tr>\n",
       "      <th>8</th>\n",
       "      <td>ID_0060BW8R</td>\n",
       "      <td>TW sorry to hear that  and yeah he recently th...</td>\n",
       "      <td>sexual_violence</td>\n",
       "      <td>1</td>\n",
       "      <td>tw sorri hear yeah recent threaten file restra...</td>\n",
       "    </tr>\n",
       "    <tr>\n",
       "      <th>9</th>\n",
       "      <td>ID_007FAIEI</td>\n",
       "      <td>\"I understand that... My father was abusive as...</td>\n",
       "      <td>sexual_violence</td>\n",
       "      <td>1</td>\n",
       "      <td>understand father abus well rape mother harm o...</td>\n",
       "    </tr>\n",
       "    <tr>\n",
       "      <th>10</th>\n",
       "      <td>ID_00A89HJ5</td>\n",
       "      <td>but i would be here all night if i tried to te...</td>\n",
       "      <td>sexual_violence</td>\n",
       "      <td>1</td>\n",
       "      <td>would night tri tell everi aw detail main poin...</td>\n",
       "    </tr>\n",
       "    <tr>\n",
       "      <th>11</th>\n",
       "      <td>ID_00APGSBM</td>\n",
       "      <td>BABY! Soon, all the notes in case ya'll suck y...</td>\n",
       "      <td>sexual_violence</td>\n",
       "      <td>1</td>\n",
       "      <td>babi soon note case yall suck poem like rape</td>\n",
       "    </tr>\n",
       "    <tr>\n",
       "      <th>12</th>\n",
       "      <td>ID_00AWI88Y</td>\n",
       "      <td>He orally raped me. This is not hearsay. Multi...</td>\n",
       "      <td>sexual_violence</td>\n",
       "      <td>1</td>\n",
       "      <td>oral rape hearsay multipl women come forward y...</td>\n",
       "    </tr>\n",
       "    <tr>\n",
       "      <th>13</th>\n",
       "      <td>ID_00B6KO4G</td>\n",
       "      <td>When i was off both jobs drive to another coun...</td>\n",
       "      <td>sexual_violence</td>\n",
       "      <td>1</td>\n",
       "      <td>job drive anoth counti total disrespect oldest...</td>\n",
       "    </tr>\n",
       "    <tr>\n",
       "      <th>14</th>\n",
       "      <td>ID_00BXFFCR</td>\n",
       "      <td>This is such a ridiculous thing to say. A viol...</td>\n",
       "      <td>sexual_violence</td>\n",
       "      <td>1</td>\n",
       "      <td>ridicul thing say violat violat regardless app...</td>\n",
       "    </tr>\n",
       "  </tbody>\n",
       "</table>\n",
       "</div>"
      ],
      "text/plain": [
       "       Tweet_ID                                              tweet  \\\n",
       "1   ID_00395QYM  he thought the word raped means sex and told m...   \n",
       "2   ID_003EOSSF  She NOT TALKING TO ME I WAS RAPED BY 2 MEN 1 M...   \n",
       "3   ID_004BBHOD  I was sexually abused for 3 years at age 4 to ...   \n",
       "4   ID_004F7516  Chessy Prout can do better by telling the trut...   \n",
       "5   ID_0052TYKI  Yes men rape women. But women also rape men, y...   \n",
       "6   ID_0058QG76  My Husband Beats Me Frequently, Wife Tells Cou...   \n",
       "7   ID_005VM1DJ  Pretty sure he raped a 16yr old girl with 2 fr...   \n",
       "8   ID_0060BW8R  TW sorry to hear that  and yeah he recently th...   \n",
       "9   ID_007FAIEI  \"I understand that... My father was abusive as...   \n",
       "10  ID_00A89HJ5  but i would be here all night if i tried to te...   \n",
       "11  ID_00APGSBM  BABY! Soon, all the notes in case ya'll suck y...   \n",
       "12  ID_00AWI88Y  He orally raped me. This is not hearsay. Multi...   \n",
       "13  ID_00B6KO4G  When i was off both jobs drive to another coun...   \n",
       "14  ID_00BXFFCR  This is such a ridiculous thing to say. A viol...   \n",
       "\n",
       "                 type  trash  \\\n",
       "1     sexual_violence      1   \n",
       "2     sexual_violence      1   \n",
       "3     sexual_violence      1   \n",
       "4     sexual_violence      1   \n",
       "5     sexual_violence      1   \n",
       "6   Physical_violence      1   \n",
       "7     sexual_violence      1   \n",
       "8     sexual_violence      1   \n",
       "9     sexual_violence      1   \n",
       "10    sexual_violence      1   \n",
       "11    sexual_violence      1   \n",
       "12    sexual_violence      1   \n",
       "13    sexual_violence      1   \n",
       "14    sexual_violence      1   \n",
       "\n",
       "                                         Tweets_clean  \n",
       "1   thought word rape mean sex told “ saw dog rape...  \n",
       "2     talk rape men molest jail nother charg say word  \n",
       "3   sexual abus year age one believ rape bro ’ fri...  \n",
       "4   chessi prout better tell truth sell owen labri...  \n",
       "5   ye men rape women women also rape men yet ’ ne...  \n",
       "6               husband beat frequent wife tell court  \n",
       "7   pretti sure rape old girl friend buri aliv adm...  \n",
       "8   tw sorri hear yeah recent threaten file restra...  \n",
       "9   understand father abus well rape mother harm o...  \n",
       "10  would night tri tell everi aw detail main poin...  \n",
       "11       babi soon note case yall suck poem like rape  \n",
       "12  oral rape hearsay multipl women come forward y...  \n",
       "13  job drive anoth counti total disrespect oldest...  \n",
       "14  ridicul thing say violat violat regardless app...  "
      ]
     },
     "execution_count": 74,
     "metadata": {},
     "output_type": "execute_result"
    }
   ],
   "source": [
    "all_data['Tweets_clean']=all_data['tweet'].map(lambda X: clean_text(X))\n",
    "all_data[1:15]"
   ]
  },
  {
   "cell_type": "code",
   "execution_count": null,
   "metadata": {},
   "outputs": [],
   "source": []
  }
 ],
 "metadata": {
  "kernelspec": {
   "display_name": "Python 3",
   "language": "python",
   "name": "python3"
  },
  "language_info": {
   "codemirror_mode": {
    "name": "ipython",
    "version": 3
   },
   "file_extension": ".py",
   "mimetype": "text/x-python",
   "name": "python",
   "nbconvert_exporter": "python",
   "pygments_lexer": "ipython3",
   "version": "3.7.3"
  }
 },
 "nbformat": 4,
 "nbformat_minor": 4
}
